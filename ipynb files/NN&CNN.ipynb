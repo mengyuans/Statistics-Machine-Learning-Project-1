{
 "cells": [
  {
   "cell_type": "code",
   "execution_count": null,
   "metadata": {
    "colab": {},
    "colab_type": "code",
    "executionInfo": {
     "elapsed": 1468,
     "status": "ok",
     "timestamp": 1600250857871,
     "user": {
      "displayName": "Yuzhou Feng",
      "photoUrl": "",
      "userId": "13975821247008883080"
     },
     "user_tz": -600
    },
    "id": "Ev8iLDke9uOo"
   },
   "outputs": [],
   "source": [
    "import pandas as pd\n",
    "from sklearn.metrics import roc_auc_score\n",
    "from sklearn.model_selection import train_test_split\n",
    "from sklearn.metrics import accuracy_score\n",
    "\n",
    "import os\n",
    "import ast\n",
    "from tqdm import tqdm\n",
    "import sys\n",
    "import numpy as np\n",
    "import matplotlib.pyplot as plt\n",
    "import seaborn as sns\n",
    "from sklearn.linear_model import LinearRegression\n",
    "from sklearn.model_selection import train_test_split, StratifiedShuffleSplit, GridSearchCV\n",
    "from sklearn.preprocessing import StandardScaler\n",
    "from sklearn.svm import SVC, LinearSVC\n",
    "from sklearn.metrics import classification_report, confusion_matrix\n",
    "from sklearn import svm\n",
    "from sklearn.ensemble import RandomForestClassifier\n",
    "from sklearn.ensemble import RandomForestRegressor\n",
    "\n",
    "from numpy import loadtxt\n",
    "from keras.models import Sequential\n",
    "from keras.layers import Dense\n",
    "from datetime import datetime\n",
    "from packaging import version\n",
    "\n",
    "import tensorflow as tf\n",
    "from tensorflow import keras\n",
    "from tensorflow.keras import layers\n",
    "from tensorflow.keras import metrics \n",
    "\n",
    "\n",
    "import matplotlib.pyplot as plt\n",
    "\n",
    "METRICS = [\n",
    "      keras.metrics.BinaryAccuracy(name='accuracy'),\n",
    "      keras.metrics.AUC(name='auc'),\n",
    "]"
   ]
  },
  {
   "cell_type": "markdown",
   "metadata": {
    "colab_type": "text",
    "id": "ylittTvNFncJ"
   },
   "source": [
    "# make the data set"
   ]
  },
  {
   "cell_type": "code",
   "execution_count": null,
   "metadata": {
    "colab": {},
    "colab_type": "code",
    "executionInfo": {
     "elapsed": 1181,
     "status": "ok",
     "timestamp": 1600247540482,
     "user": {
      "displayName": "Yuzhou Feng",
      "photoUrl": "",
      "userId": "13975821247008883080"
     },
     "user_tz": -600
    },
    "id": "9VZAfDHnIJ3D"
   },
   "outputs": [],
   "source": [
    "train_df = pd.read_csv(\"/content/drive/My Drive/COMP90051_project1/new_train_model/train_full_feature.csv\")\n",
    "test_df = pd.read_csv(\"/content/drive/My Drive/COMP90051_project1/new_train_model/test_full_feature.csv\")\n",
    "data=train_df[[\"common_interest_rank\",\"common_friends\",\"distance_inv\",\"sink_degree\"]].astype(float)\n",
    "classlabel=train_df['label']\n",
    "X_train, X_test, y_train, y_test = train_test_split(data,classlabel, train_size=0.70, test_size=0.30, random_state = 6010)"
   ]
  },
  {
   "cell_type": "code",
   "execution_count": null,
   "metadata": {
    "colab": {},
    "colab_type": "code",
    "executionInfo": {
     "elapsed": 1205,
     "status": "ok",
     "timestamp": 1600252933709,
     "user": {
      "displayName": "Yuzhou Feng",
      "photoUrl": "",
      "userId": "13975821247008883080"
     },
     "user_tz": -600
    },
    "id": "zIYsKzrmgHUa"
   },
   "outputs": [],
   "source": [
    "test_df = pd.read_csv(\"/content/drive/My Drive/COMP90051_project1/new_train_model/test_full_feature.csv\")\n",
    "test=np.array(test_df[[\"common_interest_rank\",\"common_friends\",\"distance_inv\",\"sink_degree\"]].astype(float))"
   ]
  },
  {
   "cell_type": "markdown",
   "metadata": {
    "colab_type": "text",
    "id": "VTnm_ZqqFyqj"
   },
   "source": [
    "# Logistic regression"
   ]
  },
  {
   "cell_type": "markdown",
   "metadata": {
    "colab_type": "text",
    "id": "IQJi90ruLagL"
   },
   "source": [
    "## visualise the data"
   ]
  },
  {
   "cell_type": "code",
   "execution_count": null,
   "metadata": {
    "colab": {},
    "colab_type": "code",
    "id": "Ucu7_EPYGY3j"
   },
   "outputs": [],
   "source": [
    "X = np.array(df_col[[\"common_interest\",\"common_friends\",\"distance\",\"source_degree\",\"sink_degree\"]])\n",
    "y = np.array(list(df_col[\"label\"]))"
   ]
  },
  {
   "cell_type": "code",
   "execution_count": null,
   "metadata": {
    "colab": {},
    "colab_type": "code",
    "id": "fVYxX-tGMBvj"
   },
   "outputs": [],
   "source": [
    "X_b = np.column_stack((np.ones_like(y), X))"
   ]
  },
  {
   "cell_type": "code",
   "execution_count": null,
   "metadata": {
    "colab": {
     "base_uri": "https://localhost:8080/",
     "height": 71
    },
    "colab_type": "code",
    "executionInfo": {
     "elapsed": 1009,
     "status": "ok",
     "timestamp": 1600134205505,
     "user": {
      "displayName": "Yuzhou Feng",
      "photoUrl": "",
      "userId": "13975821247008883080"
     },
     "user_tz": -600
    },
    "id": "Z3K0_s2gFuyJ",
    "outputId": "798104d9-5ae9-4c05-8ef4-a01c8ffab353"
   },
   "outputs": [],
   "source": [
    "import seaborn as sns\n",
    "from scipy.special import expit\n",
    "sns.set_style('darkgrid')\n",
    "plt.rcParams['figure.dpi'] = 108"
   ]
  },
  {
   "cell_type": "markdown",
   "metadata": {
    "colab_type": "text",
    "id": "mMyRvFemLi4h"
   },
   "source": [
    "## fit logistic regression "
   ]
  },
  {
   "cell_type": "code",
   "execution_count": null,
   "metadata": {
    "colab": {
     "base_uri": "https://localhost:8080/",
     "height": 51
    },
    "colab_type": "code",
    "executionInfo": {
     "elapsed": 1008,
     "status": "ok",
     "timestamp": 1600084315600,
     "user": {
      "displayName": "Yuzhou Feng",
      "photoUrl": "",
      "userId": "13975821247008883080"
     },
     "user_tz": -600
    },
    "id": "p65nllTxM8UC",
    "outputId": "4d54d01c-304d-42af-954f-db50d3e9cc50"
   },
   "outputs": [],
   "source": [
    "from sklearn.linear_model import LogisticRegression\n",
    "\n",
    "clf = LogisticRegression(penalty='l2')\n",
    "clf.fit(X_train, y_train)\n",
    "w_sklearn = np.r_[clf.intercept_, clf.coef_.squeeze()]\n",
    "print(\"Weights according to scikit-learn: {}\".format(w_sklearn))"
   ]
  },
  {
   "cell_type": "code",
   "execution_count": null,
   "metadata": {
    "colab": {
     "base_uri": "https://localhost:8080/",
     "height": 419
    },
    "colab_type": "code",
    "executionInfo": {
     "elapsed": 1088,
     "status": "ok",
     "timestamp": 1600084324031,
     "user": {
      "displayName": "Yuzhou Feng",
      "photoUrl": "",
      "userId": "13975821247008883080"
     },
     "user_tz": -600
    },
    "id": "zWRsv1BIPb3J",
    "outputId": "4e85a72c-7219-490f-8907-fd023430224d"
   },
   "outputs": [],
   "source": [
    "X_train"
   ]
  },
  {
   "cell_type": "code",
   "execution_count": null,
   "metadata": {
    "colab": {
     "base_uri": "https://localhost:8080/",
     "height": 34
    },
    "colab_type": "code",
    "executionInfo": {
     "elapsed": 841,
     "status": "ok",
     "timestamp": 1600084331124,
     "user": {
      "displayName": "Yuzhou Feng",
      "photoUrl": "",
      "userId": "13975821247008883080"
     },
     "user_tz": -600
    },
    "id": "dCjrOlDuPcR2",
    "outputId": "82e6906c-a2bd-4a93-e749-a4d9c0ab1af0"
   },
   "outputs": [],
   "source": [
    "y_pred=clf.predict(X_test)\n",
    "print(accuracy_score(y_test, y_pred))"
   ]
  },
  {
   "cell_type": "code",
   "execution_count": null,
   "metadata": {
    "colab": {},
    "colab_type": "code",
    "id": "CPXTSt73QdVJ"
   },
   "outputs": [],
   "source": [
    "?LogisticRegression"
   ]
  },
  {
   "cell_type": "markdown",
   "metadata": {
    "colab_type": "text",
    "id": "PRtloqdg7EuS"
   },
   "source": [
    "# Neural Network"
   ]
  },
  {
   "cell_type": "markdown",
   "metadata": {
    "colab_type": "text",
    "id": "VGreZrzkTbdF"
   },
   "source": [
    "## NN 1"
   ]
  },
  {
   "cell_type": "code",
   "execution_count": null,
   "metadata": {
    "colab": {
     "base_uri": "https://localhost:8080/",
     "height": 1000
    },
    "colab_type": "code",
    "executionInfo": {
     "elapsed": 242032,
     "status": "ok",
     "timestamp": 1600252845542,
     "user": {
      "displayName": "Yuzhou Feng",
      "photoUrl": "",
      "userId": "13975821247008883080"
     },
     "user_tz": -600
    },
    "id": "o1U0rAb77G0W",
    "outputId": "7d07f25c-3d4f-4a1d-9525-6a7ebd5323eb"
   },
   "outputs": [],
   "source": [
    "\n",
    "# first neural network with keras tutorial\n",
    "from numpy import loadtxt\n",
    "from keras.models import Sequential\n",
    "from keras.layers import Dense\n",
    "\n",
    "# define the keras model\n",
    "model = Sequential()\n",
    "model.add(Dense(12, input_dim=4, activation='relu'))\n",
    "model.add(Dense(8, activation='relu'))\n",
    "model.add(Dense(5, activation='relu'))\n",
    "model.add(Dense(1, activation='sigmoid'))\n",
    "# compile the keras model\n",
    "model.compile(loss='binary_crossentropy', optimizer='adam', metrics = METRICS)\n",
    "# fit the keras model on the dataset\n",
    "model.fit(X_train, y_train, epochs=120, batch_size=10, validation_data=(X_test, y_test))\n",
    "# evaluate the keras model\n",
    "#_, accuracy = model.evaluate(X_train, y_train)\n",
    "#print('Accuracy: %.2f' % (accuracy*100))"
   ]
  },
  {
   "cell_type": "code",
   "execution_count": null,
   "metadata": {
    "colab": {},
    "colab_type": "code",
    "executionInfo": {
     "elapsed": 1802,
     "status": "ok",
     "timestamp": 1600253008035,
     "user": {
      "displayName": "Yuzhou Feng",
      "photoUrl": "",
      "userId": "13975821247008883080"
     },
     "user_tz": -600
    },
    "id": "mvNtC3mF9e8y"
   },
   "outputs": [],
   "source": [
    "predictions_test = model.predict(test)\n",
    "out = pd.read_csv('/content/drive/My Drive/COMP90051_project1/Features/test_common_interest_2.csv')\n",
    "out[[\"Predicted\"]] = predictions_test\n",
    "out.to_csv(\"/content/drive/My Drive/COMP90051_project1/new_train_model/NN_4f_1.csv\", index = False)"
   ]
  },
  {
   "cell_type": "markdown",
   "metadata": {
    "colab_type": "text",
    "id": "WHHy9RM29EP3"
   },
   "source": [
    "## NN"
   ]
  },
  {
   "cell_type": "code",
   "execution_count": null,
   "metadata": {
    "colab": {
     "base_uri": "https://localhost:8080/",
     "height": 1000
    },
    "colab_type": "code",
    "executionInfo": {
     "elapsed": 376297,
     "status": "ok",
     "timestamp": 1600253459470,
     "user": {
      "displayName": "Yuzhou Feng",
      "photoUrl": "",
      "userId": "13975821247008883080"
     },
     "user_tz": -600
    },
    "id": "cS6haosCkld2",
    "outputId": "434ace9d-6c98-4a27-b177-d22f7f7fd2d7"
   },
   "outputs": [],
   "source": [
    "\n",
    "# first neural network with keras tutorial\n",
    "from numpy import loadtxt\n",
    "from keras.models import Sequential\n",
    "from keras.layers import Dense\n",
    "\n",
    "# define the keras model\n",
    "model = Sequential()\n",
    "model.add(Dense(10, input_dim=4, activation='relu'))\n",
    "model.add(Dense(8, activation='relu'))\n",
    "model.add(Dense(5, activation='relu'))\n",
    "model.add(Dense(3, activation='relu'))\n",
    "model.add(Dense(1, activation='sigmoid'))\n",
    "# compile the keras model\n",
    "model.compile(loss='binary_crossentropy', optimizer='adam', metrics=METRICS)\n",
    "# fit the keras model on the dataset\n",
    "model.fit(X_train, y_train, epochs=150, batch_size=8, validation_data=(X_test, y_test))"
   ]
  },
  {
   "cell_type": "code",
   "execution_count": null,
   "metadata": {
    "colab": {},
    "colab_type": "code",
    "executionInfo": {
     "elapsed": 2587,
     "status": "ok",
     "timestamp": 1600253701063,
     "user": {
      "displayName": "Yuzhou Feng",
      "photoUrl": "",
      "userId": "13975821247008883080"
     },
     "user_tz": -600
    },
    "id": "uRfxKVUumBjo"
   },
   "outputs": [],
   "source": [
    "predictions_test = model.predict(test)\n",
    "out = pd.read_csv('/content/drive/My Drive/COMP90051_project1/Features/test_common_interest_2.csv')\n",
    "out[[\"Predicted\"]] = predictions_test\n",
    "out.to_csv(\"/content/drive/My Drive/COMP90051_project1/new_train_model/NN_4f_2.csv\", index = False)"
   ]
  },
  {
   "cell_type": "markdown",
   "metadata": {
    "colab_type": "text",
    "id": "lPauo28H8AC-"
   },
   "source": [
    "## CNN"
   ]
  },
  {
   "cell_type": "code",
   "execution_count": null,
   "metadata": {
    "colab": {},
    "colab_type": "code",
    "executionInfo": {
     "elapsed": 1718,
     "status": "ok",
     "timestamp": 1600249522637,
     "user": {
      "displayName": "Yuzhou Feng",
      "photoUrl": "",
      "userId": "13975821247008883080"
     },
     "user_tz": -600
    },
    "id": "3BmOV2ig-yG5"
   },
   "outputs": [],
   "source": [
    "x_train_reshape = np.expand_dims(X_train, -1)\n",
    "x_train_reshape = np.expand_dims(x_train_reshape, -1)\n",
    "#y_train_reshape = np.expand_dims(y_train, -1)\n",
    "#y_train_reshape = np.expand_dims(y_train_reshape, -1)\n",
    "x_test_reshape = np.expand_dims(X_test, -1)\n",
    "x_test_reshape = np.expand_dims(x_test_reshape, -1)\n",
    "#y_test_reshape = np.expand_dims(y_test, -1)\n",
    "#y_test_reshape = np.expand_dims(y_test_reshape, -1)\n"
   ]
  },
  {
   "cell_type": "code",
   "execution_count": null,
   "metadata": {
    "colab": {},
    "colab_type": "code",
    "executionInfo": {
     "elapsed": 1064,
     "status": "ok",
     "timestamp": 1600254182751,
     "user": {
      "displayName": "Yuzhou Feng",
      "photoUrl": "",
      "userId": "13975821247008883080"
     },
     "user_tz": -600
    },
    "id": "t6VSPtbOlLKE"
   },
   "outputs": [],
   "source": [
    "test_kaggle_reshape = np.expand_dims(np.array(test), -1)\n",
    "test_kaggle_reshape = np.expand_dims(test_kaggle_reshape, -1)"
   ]
  },
  {
   "cell_type": "code",
   "execution_count": null,
   "metadata": {
    "colab": {
     "base_uri": "https://localhost:8080/",
     "height": 34
    },
    "colab_type": "code",
    "executionInfo": {
     "elapsed": 1238,
     "status": "ok",
     "timestamp": 1600254194812,
     "user": {
      "displayName": "Yuzhou Feng",
      "photoUrl": "",
      "userId": "13975821247008883080"
     },
     "user_tz": -600
    },
    "id": "3kSYg5hylRde",
    "outputId": "3033ef74-4931-4aa2-80ea-798f7ee5270c"
   },
   "outputs": [],
   "source": [
    "test_kaggle_reshape.shape"
   ]
  },
  {
   "cell_type": "code",
   "execution_count": null,
   "metadata": {
    "colab": {},
    "colab_type": "code",
    "executionInfo": {
     "elapsed": 1332,
     "status": "ok",
     "timestamp": 1600249526604,
     "user": {
      "displayName": "Yuzhou Feng",
      "photoUrl": "",
      "userId": "13975821247008883080"
     },
     "user_tz": -600
    },
    "id": "GCX2Pa637_Mj"
   },
   "outputs": [],
   "source": [
    "cnn = keras.Sequential(\n",
    "    [\n",
    "        layers.Input((4, 1, 1)),\n",
    "        layers.Conv2D(8, (2, 1), activation='relu'), # fill in\n",
    "        layers.MaxPooling2D((1, 1)), # fill in\n",
    "        layers.Conv2D(8, (2, 1), activation='relu'), #fill in\n",
    "        layers.MaxPooling2D((1, 1)), # fill in\n",
    "        layers.Flatten(),\n",
    "        layers.Dropout(0.5),\n",
    "        layers.Dense(1, activation='sigmoid')\n",
    "    ], \n",
    ")"
   ]
  },
  {
   "cell_type": "code",
   "execution_count": null,
   "metadata": {
    "colab": {},
    "colab_type": "code",
    "executionInfo": {
     "elapsed": 1335,
     "status": "ok",
     "timestamp": 1600249533259,
     "user": {
      "displayName": "Yuzhou Feng",
      "photoUrl": "",
      "userId": "13975821247008883080"
     },
     "user_tz": -600
    },
    "id": "Y9W2thEO8RGq"
   },
   "outputs": [],
   "source": [
    "cnn.compile(optimizer='adam',\n",
    "            loss=tf.keras.losses.BinaryCrossentropy(),\n",
    "            metrics=METRICS)"
   ]
  },
  {
   "cell_type": "code",
   "execution_count": null,
   "metadata": {
    "colab": {
     "base_uri": "https://localhost:8080/",
     "height": 1000
    },
    "colab_type": "code",
    "executionInfo": {
     "elapsed": 315308,
     "status": "ok",
     "timestamp": 1600249851570,
     "user": {
      "displayName": "Yuzhou Feng",
      "photoUrl": "",
      "userId": "13975821247008883080"
     },
     "user_tz": -600
    },
    "id": "kNkWAjHf8Ttp",
    "outputId": "96ee2511-d9be-4fe6-8c54-09157d674e90"
   },
   "outputs": [],
   "source": [
    "history_cnn = cnn.fit(x_train_reshape, y_train, epochs=150, batch_size=10, \n",
    "                      validation_data=(x_test_reshape, y_test))"
   ]
  },
  {
   "cell_type": "code",
   "execution_count": null,
   "metadata": {
    "colab": {},
    "colab_type": "code",
    "id": "oWj4eDDmkP66"
   },
   "outputs": [],
   "source": [
    "cnn.fit"
   ]
  },
  {
   "cell_type": "code",
   "execution_count": null,
   "metadata": {
    "colab": {},
    "colab_type": "code",
    "executionInfo": {
     "elapsed": 1121,
     "status": "ok",
     "timestamp": 1600254211659,
     "user": {
      "displayName": "Yuzhou Feng",
      "photoUrl": "",
      "userId": "13975821247008883080"
     },
     "user_tz": -600
    },
    "id": "-UYCYZdHVk9Q"
   },
   "outputs": [],
   "source": [
    "predictions_test = cnn.predict(test_kaggle_reshape)\n",
    "out = pd.read_csv('/content/drive/My Drive/COMP90051_project1/Features/test_common_interest_2.csv')\n",
    "out[\"Predicted\"] = predictions_test\n",
    "out.to_csv(\"/content/drive/My Drive/COMP90051_project1/new_train_model/CNN_4f_1.csv\", index = False)"
   ]
  },
  {
   "cell_type": "markdown",
   "metadata": {
    "colab_type": "text",
    "id": "hnCvUmm8Vpfx"
   },
   "source": [
    "# Random Forest"
   ]
  },
  {
   "cell_type": "markdown",
   "metadata": {
    "colab_type": "text",
    "id": "3e_gYC_bVoXL"
   },
   "source": [
    "##RF1"
   ]
  },
  {
   "cell_type": "code",
   "execution_count": null,
   "metadata": {
    "colab": {
     "base_uri": "https://localhost:8080/",
     "height": 170
    },
    "colab_type": "code",
    "executionInfo": {
     "elapsed": 2491,
     "status": "ok",
     "timestamp": 1600253744247,
     "user": {
      "displayName": "Yuzhou Feng",
      "photoUrl": "",
      "userId": "13975821247008883080"
     },
     "user_tz": -600
    },
    "id": "k_B_TvGxWEq6",
    "outputId": "9d1d86f4-b20a-4203-db57-e1b918b2d969"
   },
   "outputs": [],
   "source": [
    "# set up\n",
    "clf = RandomForestClassifier(n_estimators=100,max_depth=4)\n",
    "clf.fit(X_train,y_train)\n",
    "y_train_pred=clf.predict(X_train)\n",
    "y_test_pred=clf.predict(X_test)\n",
    "print(\"Train Accuracy:\",accuracy_score(y_train, y_train_pred))\n",
    "print(\"Train AUC:\",roc_auc_score(y_train, y_train_pred))\n",
    "print(\"Test Accuracy:\",accuracy_score(y_test, y_test_pred))\n",
    "print(\"Test AUC:\",roc_auc_score(y_test, y_test_pred))\n",
    "feature_imp = pd.Series(clf.feature_importances_).sort_values(ascending=False)\n",
    "feature_imp"
   ]
  },
  {
   "cell_type": "code",
   "execution_count": null,
   "metadata": {
    "colab": {},
    "colab_type": "code",
    "executionInfo": {
     "elapsed": 1192,
     "status": "ok",
     "timestamp": 1600253821386,
     "user": {
      "displayName": "Yuzhou Feng",
      "photoUrl": "",
      "userId": "13975821247008883080"
     },
     "user_tz": -600
    },
    "id": "pGTTfieqheFY"
   },
   "outputs": [],
   "source": [
    "predictions_test = clf.predict_proba(test)\n",
    "out = pd.read_csv('/content/drive/My Drive/COMP90051_project1/Features/test_common_interest_2.csv')\n",
    "out[\"Predicted\"] = predictions_test\n",
    "out.to_csv(\"/content/drive/My Drive/COMP90051_project1/new_train_model/RF_4f_1.csv\", index = False)"
   ]
  },
  {
   "cell_type": "code",
   "execution_count": null,
   "metadata": {
    "colab": {
     "base_uri": "https://localhost:8080/",
     "height": 34
    },
    "colab_type": "code",
    "executionInfo": {
     "elapsed": 1185,
     "status": "ok",
     "timestamp": 1600253805247,
     "user": {
      "displayName": "Yuzhou Feng",
      "photoUrl": "",
      "userId": "13975821247008883080"
     },
     "user_tz": -600
    },
    "id": "n2UMiylQjzD0",
    "outputId": "2a6c0939-d182-48dd-80f0-65bb0d979e55"
   },
   "outputs": [],
   "source": [
    "len(out)"
   ]
  },
  {
   "cell_type": "markdown",
   "metadata": {
    "colab_type": "text",
    "id": "y2AAF22hcC0E"
   },
   "source": [
    "##RF2"
   ]
  },
  {
   "cell_type": "code",
   "execution_count": null,
   "metadata": {
    "colab": {},
    "colab_type": "code",
    "executionInfo": {
     "elapsed": 1396,
     "status": "ok",
     "timestamp": 1600250792209,
     "user": {
      "displayName": "Yuzhou Feng",
      "photoUrl": "",
      "userId": "13975821247008883080"
     },
     "user_tz": -600
    },
    "id": "bYAFl88vXDKk"
   },
   "outputs": [],
   "source": []
  },
  {
   "cell_type": "code",
   "execution_count": null,
   "metadata": {
    "colab": {
     "base_uri": "https://localhost:8080/",
     "height": 170
    },
    "colab_type": "code",
    "executionInfo": {
     "elapsed": 3060,
     "status": "ok",
     "timestamp": 1600253911988,
     "user": {
      "displayName": "Yuzhou Feng",
      "photoUrl": "",
      "userId": "13975821247008883080"
     },
     "user_tz": -600
    },
    "id": "PB4H62DUWHdp",
    "outputId": "6a3c7fd3-9a16-47c6-a422-b6feabce06cf"
   },
   "outputs": [],
   "source": [
    "# set up\n",
    "clf = RandomForestClassifier(n_estimators=100,max_depth=6, criterion='entropy')\n",
    "clf.fit(X_train,y_train)\n",
    "y_train_pred=clf.predict(X_train)\n",
    "y_test_pred=clf.predict(X_test)\n",
    "print(\"Train Accuracy:\",accuracy_score(y_train, y_train_pred))\n",
    "print(\"Train AUC:\",roc_auc_score(y_train, y_train_pred))\n",
    "print(\"Test Accuracy:\",accuracy_score(y_test, y_test_pred))\n",
    "print(\"Test AUC:\",roc_auc_score(y_test, y_test_pred))\n",
    "feature_imp = pd.Series(clf.feature_importances_).sort_values(ascending=False)\n",
    "feature_imp"
   ]
  },
  {
   "cell_type": "code",
   "execution_count": null,
   "metadata": {
    "colab": {},
    "colab_type": "code",
    "executionInfo": {
     "elapsed": 1018,
     "status": "ok",
     "timestamp": 1600253934925,
     "user": {
      "displayName": "Yuzhou Feng",
      "photoUrl": "",
      "userId": "13975821247008883080"
     },
     "user_tz": -600
    },
    "id": "SVczK-NYkKu4"
   },
   "outputs": [],
   "source": [
    "predictions_test = clf.predict_proba(test)\n",
    "out = pd.read_csv('/content/drive/My Drive/COMP90051_project1/Features/test_common_interest_2.csv')\n",
    "out[\"Predicted\"] = predictions_test\n",
    "out.to_csv(\"/content/drive/My Drive/COMP90051_project1/new_train_model/RF_4f_2.csv\", index = False)"
   ]
  }
 ],
 "metadata": {
  "colab": {
   "authorship_tag": "ABX9TyN2JjMDRa1Oh6PvVlv3kJ6m",
   "collapsed_sections": [
    "ylittTvNFncJ",
    "IQJi90ruLagL",
    "tQulCuMbNhsq",
    "uVckPQtXTX81",
    "NfAJwwiV-oFZ"
   ],
   "mount_file_id": "1yw6-dyl4FrMi79H5_8e2lkRB0MSR4B0N",
   "name": "train_model.ipynb",
   "provenance": [],
   "toc_visible": true
  },
  "kernelspec": {
   "display_name": "Python 3",
   "language": "python",
   "name": "python3"
  },
  "language_info": {
   "codemirror_mode": {
    "name": "ipython",
    "version": 3
   },
   "file_extension": ".py",
   "mimetype": "text/x-python",
   "name": "python",
   "nbconvert_exporter": "python",
   "pygments_lexer": "ipython3",
   "version": "3.7.1"
  }
 },
 "nbformat": 4,
 "nbformat_minor": 2
}
