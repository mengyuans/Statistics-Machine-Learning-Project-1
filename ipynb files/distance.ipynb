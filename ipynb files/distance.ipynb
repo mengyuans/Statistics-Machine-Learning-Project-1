{
 "cells": [
  {
   "cell_type": "code",
   "execution_count": null,
   "metadata": {
    "colab": {},
    "colab_type": "code",
    "executionInfo": {
     "elapsed": 1323,
     "status": "ok",
     "timestamp": 1600239665414,
     "user": {
      "displayName": "Yuzhou Feng",
      "photoUrl": "",
      "userId": "13975821247008883080"
     },
     "user_tz": -600
    },
    "id": "3j-2WIS1Jr5N"
   },
   "outputs": [],
   "source": [
    "from pylab import *\n",
    "import networkx as nx\n",
    "from tqdm import tqdm"
   ]
  },
  {
   "cell_type": "code",
   "execution_count": null,
   "metadata": {
    "colab": {},
    "colab_type": "code",
    "executionInfo": {
     "elapsed": 5454,
     "status": "ok",
     "timestamp": 1600239675434,
     "user": {
      "displayName": "Yuzhou Feng",
      "photoUrl": "",
      "userId": "13975821247008883080"
     },
     "user_tz": -600
    },
    "id": "kBRrBzcoKkox"
   },
   "outputs": [],
   "source": [
    "train = {}\n",
    "with open('/content/drive/My Drive/COMP90051_project1/raw_data/train.txt') as f: \n",
    "    for line in f:\n",
    "        words = line.split(\"\\t\")\n",
    "        words[-1] = words[-1][:-1]\n",
    "        train[words[0]] = words[1:]"
   ]
  },
  {
   "cell_type": "code",
   "execution_count": null,
   "metadata": {
    "colab": {
     "base_uri": "https://localhost:8080/",
     "height": 34
    },
    "colab_type": "code",
    "executionInfo": {
     "elapsed": 1053,
     "status": "ok",
     "timestamp": 1600220246245,
     "user": {
      "displayName": "Yuzhou Feng",
      "photoUrl": "",
      "userId": "13975821247008883080"
     },
     "user_tz": -600
    },
    "id": "gyMGpYPXLwil",
    "outputId": "93c52979-a945-4b67-81ef-675bce81d957"
   },
   "outputs": [],
   "source": [
    "len(train)"
   ]
  },
  {
   "cell_type": "code",
   "execution_count": null,
   "metadata": {
    "colab": {},
    "colab_type": "code",
    "executionInfo": {
     "elapsed": 1823,
     "status": "ok",
     "timestamp": 1600239833663,
     "user": {
      "displayName": "Yuzhou Feng",
      "photoUrl": "",
      "userId": "13975821247008883080"
     },
     "user_tz": -600
    },
    "id": "PvIxJYb6KlH-"
   },
   "outputs": [],
   "source": [
    "test_source = []\n",
    "test_sink = []\n",
    "with open('/content/drive/My Drive/COMP90051_project1/raw_data/test-public.txt') as f: \n",
    "    for line in f:\n",
    "        words = line.split(\"\\t\")\n",
    "        test_source.append(words[1])\n",
    "        test_sink.append(words[2][:-1])\n",
    "    test_source = test_source[1:]\n",
    "    test_sink= test_sink[1:]"
   ]
  },
  {
   "cell_type": "code",
   "execution_count": null,
   "metadata": {
    "colab": {},
    "colab_type": "code",
    "executionInfo": {
     "elapsed": 77585,
     "status": "ok",
     "timestamp": 1600239792069,
     "user": {
      "displayName": "Yuzhou Feng",
      "photoUrl": "",
      "userId": "13975821247008883080"
     },
     "user_tz": -600
    },
    "id": "du-zFlo1KsIF"
   },
   "outputs": [],
   "source": [
    "g = nx.from_dict_of_lists(train, create_using = nx.Graph())"
   ]
  },
  {
   "cell_type": "markdown",
   "metadata": {
    "colab_type": "text",
    "id": "-UItn0dcl27P"
   },
   "source": [
    "## demo"
   ]
  },
  {
   "cell_type": "code",
   "execution_count": null,
   "metadata": {
    "colab": {
     "base_uri": "https://localhost:8080/",
     "height": 319
    },
    "colab_type": "code",
    "executionInfo": {
     "elapsed": 1344,
     "status": "ok",
     "timestamp": 1600221281477,
     "user": {
      "displayName": "Yuzhou Feng",
      "photoUrl": "",
      "userId": "13975821247008883080"
     },
     "user_tz": -600
    },
    "id": "CnKhSGrpl-iU",
    "outputId": "a863af91-7f9b-4354-b3a9-ab7905455caf"
   },
   "outputs": [],
   "source": [
    "demo = {1:[2,3,4],2:[3,4,5],5:[4,7,9]}\n",
    "g_demo = nx.from_dict_of_lists(demo, create_using = nx.Graph())\n",
    "nx.draw(g_demo,with_labels=True)\n",
    "plt.show()"
   ]
  },
  {
   "cell_type": "code",
   "execution_count": null,
   "metadata": {
    "colab": {
     "base_uri": "https://localhost:8080/",
     "height": 34
    },
    "colab_type": "code",
    "executionInfo": {
     "elapsed": 1062,
     "status": "ok",
     "timestamp": 1600221323658,
     "user": {
      "displayName": "Yuzhou Feng",
      "photoUrl": "",
      "userId": "13975821247008883080"
     },
     "user_tz": -600
    },
    "id": "ilMSmhxPn2Qv",
    "outputId": "095c7a16-2a2e-462d-ac38-fd5de9586525"
   },
   "outputs": [],
   "source": [
    "nx.shortest_path(g_demo,7, 5)"
   ]
  },
  {
   "cell_type": "markdown",
   "metadata": {
    "colab_type": "text",
    "id": "K4UnS5ksl5fx"
   },
   "source": [
    "## path"
   ]
  },
  {
   "cell_type": "code",
   "execution_count": null,
   "metadata": {
    "colab": {
     "base_uri": "https://localhost:8080/",
     "height": 34
    },
    "colab_type": "code",
    "executionInfo": {
     "elapsed": 11404,
     "status": "ok",
     "timestamp": 1600239847255,
     "user": {
      "displayName": "Yuzhou Feng",
      "photoUrl": "",
      "userId": "13975821247008883080"
     },
     "user_tz": -600
    },
    "id": "oYVno1ZGKudV",
    "outputId": "eaff5f5a-058b-477d-db96-af4a49f082d6"
   },
   "outputs": [],
   "source": [
    "short_path = []\n",
    "for i in tqdm(range(2000)):\n",
    "    try:\n",
    "        path = nx.shortest_path(g,source=test_source[i], target=test_sink[i])\n",
    "        short_path.append(path) \n",
    "    except nx.NetworkXNoPath:\n",
    "        short_path.append([])"
   ]
  },
  {
   "cell_type": "code",
   "execution_count": null,
   "metadata": {
    "colab": {},
    "colab_type": "code",
    "executionInfo": {
     "elapsed": 1443,
     "status": "ok",
     "timestamp": 1600240053615,
     "user": {
      "displayName": "Yuzhou Feng",
      "photoUrl": "",
      "userId": "13975821247008883080"
     },
     "user_tz": -600
    },
    "id": "OX-pmM2yaR06"
   },
   "outputs": [],
   "source": [
    "count=0\n",
    "distance = []\n",
    "for i in range(2000):\n",
    "    if len(short_path[i]) == 0:\n",
    "        distance.append(10)\n",
    "    else:\n",
    "        distance.append(len(short_path[i])-1)\n",
    "        if len(short_path[i]) == 2:\n",
    "            count+=1\n",
    "        "
   ]
  },
  {
   "cell_type": "code",
   "execution_count": null,
   "metadata": {
    "colab": {
     "base_uri": "https://localhost:8080/",
     "height": 34
    },
    "colab_type": "code",
    "executionInfo": {
     "elapsed": 1152,
     "status": "ok",
     "timestamp": 1600239880738,
     "user": {
      "displayName": "Yuzhou Feng",
      "photoUrl": "",
      "userId": "13975821247008883080"
     },
     "user_tz": -600
    },
    "id": "ixsE-W-noAN_",
    "outputId": "bbfcec7e-6d5a-4803-8e83-368cb562e39e"
   },
   "outputs": [],
   "source": [
    "nx.shortest_path(g,source=test_source[21], target=test_sink[21])"
   ]
  },
  {
   "cell_type": "code",
   "execution_count": null,
   "metadata": {
    "colab": {},
    "colab_type": "code",
    "id": "b_9JSueTko8D"
   },
   "outputs": [],
   "source": [
    "count = 0\n",
    "for i in range(2000):\n",
    "    if test_sink[i] in train.keys():\n",
    "        if test_source[i] in train[test_sink[i]]:\n",
    "            print(i)\n",
    "            print(test_source[i])\n",
    "            count+=1\n",
    "print(count)"
   ]
  },
  {
   "cell_type": "code",
   "execution_count": null,
   "metadata": {
    "colab": {},
    "colab_type": "code",
    "executionInfo": {
     "elapsed": 1236,
     "status": "ok",
     "timestamp": 1600240081182,
     "user": {
      "displayName": "Yuzhou Feng",
      "photoUrl": "",
      "userId": "13975821247008883080"
     },
     "user_tz": -600
    },
    "id": "L5puvfIX2u9A"
   },
   "outputs": [],
   "source": [
    "import pandas as pd\n",
    "out = pd.read_csv('/content/drive/My Drive/COMP90051_project1/Features/test_common_interest_2.csv')\n",
    "out[[\"Predicted\"]] = distance\n",
    "out.to_csv(\"/content/drive/My Drive/COMP90051_project1/Features/simple_distance_v3.csv\", index = False)"
   ]
  },
  {
   "cell_type": "code",
   "execution_count": null,
   "metadata": {
    "colab": {},
    "colab_type": "code",
    "id": "QXceHRRjATpn"
   },
   "outputs": [],
   "source": [
    "centrality = pd.read_csv(\"/content/drive/My Drive/COMP90051_project1/Features/degree_centrality.csv\")"
   ]
  },
  {
   "cell_type": "code",
   "execution_count": null,
   "metadata": {
    "colab": {
     "base_uri": "https://localhost:8080/",
     "height": 419
    },
    "colab_type": "code",
    "executionInfo": {
     "elapsed": 1031,
     "status": "ok",
     "timestamp": 1600009980368,
     "user": {
      "displayName": "Yuzhou Feng",
      "photoUrl": "",
      "userId": "13975821247008883080"
     },
     "user_tz": -600
    },
    "id": "YkETYv8gBr3W",
    "outputId": "be31edc8-21b1-4d38-ed16-e70bd8f2d846"
   },
   "outputs": [],
   "source": [
    "centrality"
   ]
  },
  {
   "cell_type": "code",
   "execution_count": null,
   "metadata": {
    "colab": {},
    "colab_type": "code",
    "id": "N6pUVI0VAZ0I"
   },
   "outputs": [],
   "source": [
    "source_degree = centrality[\"source_degree\"]"
   ]
  },
  {
   "cell_type": "code",
   "execution_count": null,
   "metadata": {
    "colab": {},
    "colab_type": "code",
    "id": "sjz0TBebAbLa"
   },
   "outputs": [],
   "source": [
    "source_degree = list(np.array(source_degree))"
   ]
  },
  {
   "cell_type": "code",
   "execution_count": null,
   "metadata": {
    "colab": {},
    "colab_type": "code",
    "id": "_jBBCw6JAh71"
   },
   "outputs": [],
   "source": [
    "new_feature = []\n",
    "for i in range(len(distance)):\n",
    "    new_feature.append(distance[i]/source_degree[i])"
   ]
  },
  {
   "cell_type": "code",
   "execution_count": null,
   "metadata": {
    "colab": {},
    "colab_type": "code",
    "id": "Z2_o616JAlRC"
   },
   "outputs": [],
   "source": [
    "out = pd.read_csv('/content/drive/My Drive/COMP90051_project1/Features/test_common_interest.csv')\n",
    "out[[\"Predicted\"]] = new_feature\n",
    "out.to_csv(\"/content/drive/My Drive/COMP90051_project1/Features/new_feature.csv\", index = False)"
   ]
  },
  {
   "cell_type": "code",
   "execution_count": null,
   "metadata": {
    "colab": {},
    "colab_type": "code",
    "id": "qvoTovrqol8h"
   },
   "outputs": [],
   "source": []
  }
 ],
 "metadata": {
  "accelerator": "GPU",
  "colab": {
   "authorship_tag": "ABX9TyOUlUw2ryRlWGqJTnTiXnv3",
   "collapsed_sections": [],
   "machine_shape": "hm",
   "mount_file_id": "1Tt_qINTii2b08JFmKZMet0SO7p0KiFTf",
   "name": "distance_2000",
   "provenance": []
  },
  "kernelspec": {
   "display_name": "Python 3",
   "language": "python",
   "name": "python3"
  },
  "language_info": {
   "codemirror_mode": {
    "name": "ipython",
    "version": 3
   },
   "file_extension": ".py",
   "mimetype": "text/x-python",
   "name": "python",
   "nbconvert_exporter": "python",
   "pygments_lexer": "ipython3",
   "version": "3.7.1"
  }
 },
 "nbformat": 4,
 "nbformat_minor": 2
}
