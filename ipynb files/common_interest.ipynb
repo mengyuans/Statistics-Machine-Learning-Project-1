{
 "cells": [
  {
   "cell_type": "code",
   "execution_count": null,
   "metadata": {},
   "outputs": [],
   "source": [
    "from tqdm import tqdm\n",
    "import random\n",
    "import pandas as pd\n",
    "import numpy as np"
   ]
  },
  {
   "cell_type": "code",
   "execution_count": null,
   "metadata": {},
   "outputs": [],
   "source": [
    "# import train\n",
    "train = {}\n",
    "with open('train.txt') as f: \n",
    "    for line in f:\n",
    "        words = line.split(\"\\t\")\n",
    "        words[-1] = words[-1][:-1]\n",
    "        train[words[0]] = words[1:]"
   ]
  },
  {
   "cell_type": "code",
   "execution_count": null,
   "metadata": {},
   "outputs": [],
   "source": [
    "# import the sources and sinks\n",
    "test_source = []\n",
    "test_sink = []\n",
    "with open('test-public.txt') as f: \n",
    "    for line in f:\n",
    "        words = line.split(\"\\t\")\n",
    "        test_source.append(words[1])\n",
    "        test_sink.append(words[2][:-1])\n",
    "    test_source = test_source[1:]\n",
    "    test_sink= test_sink[1:]"
   ]
  },
  {
   "cell_type": "code",
   "execution_count": null,
   "metadata": {},
   "outputs": [],
   "source": [
    "# get the people that the sources follow\n",
    "source_followees = {}\n",
    "for source in test_source:\n",
    "    source_followees[source] = train[source]\n",
    "\n",
    "# get the people that follow the sources\n",
    "source_followers = {}\n",
    "for source in tqdm(test_source):\n",
    "    source_followers[source] = []\n",
    "    for key in train.keys():\n",
    "        if source in train[key]:\n",
    "            source_followers[source].append(key)\n",
    "            \n",
    "# put the source information in one dict\n",
    "Source = {}\n",
    "for source in test_source:\n",
    "    Source[source] = {}\n",
    "    Source[source][\"followees\"] = source_followees[source]\n",
    "    Source[source][\"n_followees\"] = len(source_followees[source])\n",
    "    Source[source][\"followers\"] = source_followers[source]\n",
    "    Source[source][\"n_followers\"] = len(source_followers[source])\n",
    "    Source[source][\"n_neighbours\"] = Source[source][\"n_followees\"] + Source[source][\"n_followers\"]"
   ]
  },
  {
   "cell_type": "code",
   "execution_count": null,
   "metadata": {},
   "outputs": [],
   "source": [
    "# export Source dict as a txt\n",
    "import json\n",
    "with open('Source_information.txt', 'w') as file:\n",
    "     file.write(json.dumps(Source))"
   ]
  },
  {
   "cell_type": "code",
   "execution_count": null,
   "metadata": {},
   "outputs": [],
   "source": [
    "# get the people that follow the sinks\n",
    "sink_followers = {}\n",
    "for sink in tqdm(test_sink):\n",
    "    sink_followers[sink] = []\n",
    "    for key in train:\n",
    "        if sink in train[key]:\n",
    "            sink_followers[sink].append(key)\n",
    "            \n",
    "# get the people that the sinks follow\n",
    "sink_followees = {}\n",
    "for sink in test_sink:\n",
    "    if sink in train.keys():\n",
    "        sink_followees[sink] = train[sink]\n",
    "        \n",
    "# get the people that are followed by the ones who follow the sinks\n",
    "sink_followers_followees = {}\n",
    "for sink in tqdm(test_sink):\n",
    "    sink_followers_followees[sink] = {}\n",
    "    for sink_follower in sink_followers[sink]:\n",
    "        sink_followers_followees[sink][sink_follower] = train[sink_follower]\n",
    "\n",
    "# put the sink information in one dict\n",
    "Sink = {}\n",
    "for sink in test_sink:\n",
    "    Sink[sink] = {}\n",
    "    if sink in train.keys():\n",
    "        Sink[sink][\"followees\"] = sink_followees[sink]\n",
    "        Sink[sink][\"n_followees\"] = len(sink_followees[sink])\n",
    "    else:\n",
    "        Sink[sink][\"followees\"] = []\n",
    "        Sink[sink][\"n_followees\"] = 0\n",
    "    Sink[sink][\"followers\"] = sink_followers[sink]\n",
    "    Sink[sink][\"n_followers\"] = len(sink_followers[sink])\n",
    "    Sink[sink][\"n_neighbours\"] = Sink[sink][\"n_followees\"] + Sink[sink][\"n_followers\"]\n",
    "    Sink[sink][\"followers_followees\"] = {}\n",
    "    for i in sink_followers_followees[sink].keys():\n",
    "        Sink[sink][\"followers_followees\"][i] = {}\n",
    "        Sink[sink][\"followers_followees\"][i][\"ID\"] = sink_followers_followees[sink][i]\n",
    "        Sink[sink][\"followers_followees\"][i][\"n\"] = len(sink_followers_followees[sink][i])"
   ]
  },
  {
   "cell_type": "code",
   "execution_count": null,
   "metadata": {},
   "outputs": [],
   "source": [
    "# export Sink dict as a txt\n",
    "import json\n",
    "with open('Sink_information.txt', 'w') as file:\n",
    "     file.write(json.dumps(Sink))"
   ]
  },
  {
   "cell_type": "code",
   "execution_count": null,
   "metadata": {},
   "outputs": [],
   "source": [
    "# import the source_information\n",
    "import ast\n",
    "file = open(\"Source_information.txt\", \"r\")\n",
    "\n",
    "contents = file.read()\n",
    "Source = ast.literal_eval(contents)\n",
    "\n",
    "file.close()"
   ]
  },
  {
   "cell_type": "code",
   "execution_count": null,
   "metadata": {},
   "outputs": [],
   "source": [
    "len(Sink)"
   ]
  },
  {
   "cell_type": "code",
   "execution_count": null,
   "metadata": {},
   "outputs": [],
   "source": [
    "source = test_source[0]\n",
    "sink = test_sink[0]\n",
    "similarities = []"
   ]
  },
  {
   "cell_type": "code",
   "execution_count": null,
   "metadata": {},
   "outputs": [],
   "source": [
    "# calculate the proportion of source's followees that appear in sink's followers' folowees\n",
    "\n",
    "for sink_follower_followee in tqdm(Sink[sink]['followers_followees']):\n",
    "    intersect = set.intersection(set(Source[source][\"followees\"]),\n",
    "                                         set(Sink[sink]['followers_followees']\n",
    "                                             [sink_follower_followee]['ID']))\n",
    "    union = set(Source[source][\"followees\"])|set(Sink[sink]['followers_followees']\n",
    "                                             [sink_follower_followee]['ID'])\n",
    "    similarities.append(len(intersect)/len(union))"
   ]
  },
  {
   "cell_type": "code",
   "execution_count": null,
   "metadata": {},
   "outputs": [],
   "source": [
    "np.mean(similarities)"
   ]
  },
  {
   "cell_type": "code",
   "execution_count": null,
   "metadata": {},
   "outputs": [],
   "source": [
    "common_interest = []\n",
    "for i in tqdm(range(len(test_source))):\n",
    "    source = test_source[i]\n",
    "    sink = test_sink[i]\n",
    "    similarities = []\n",
    "    for sink_follower_followee in Sink[sink]['followers_followees']:\n",
    "        intersect = set.intersection(set(Source[source][\"followees\"]),\n",
    "                                             set(Sink[sink]['followers_followees']\n",
    "                                                 [sink_follower_followee]['ID']))\n",
    "        union = set(Source[source][\"followees\"])|set(Sink[sink]['followers_followees']\n",
    "                                                 [sink_follower_followee]['ID'])\n",
    "        if len(union) == 0:\n",
    "            similaries.append(0)\n",
    "        else:\n",
    "            similarities.append(len(intersect)/len(union))\n",
    "    common_interest.append(np.mean(similarities))"
   ]
  },
  {
   "cell_type": "code",
   "execution_count": null,
   "metadata": {},
   "outputs": [],
   "source": [
    "import scipy.stats as ss\n",
    "common_interest_feature = ss.rankdata(common_interest)/2000"
   ]
  },
  {
   "cell_type": "code",
   "execution_count": null,
   "metadata": {},
   "outputs": [],
   "source": [
    "# export test_mini edges\n",
    "test_common_interest = pd.DataFrame(test_source)\n",
    "test_common_interest.insert(1,\"test_sink\",test_sink)\n",
    "test_common_interest.insert(2,\"common_interest\",common_interest)\n",
    "test_common_interest = test_common_interest.rename(columns={0: 'test_source'})\n",
    "test_common_interest.to_csv(\"test_common_interest_2.csv\")"
   ]
  },
  {
   "cell_type": "code",
   "execution_count": null,
   "metadata": {},
   "outputs": [],
   "source": []
  }
 ],
 "metadata": {
  "kernelspec": {
   "display_name": "Python 3",
   "language": "python",
   "name": "python3"
  },
  "language_info": {
   "codemirror_mode": {
    "name": "ipython",
    "version": 3
   },
   "file_extension": ".py",
   "mimetype": "text/x-python",
   "name": "python",
   "nbconvert_exporter": "python",
   "pygments_lexer": "ipython3",
   "version": "3.7.1"
  }
 },
 "nbformat": 4,
 "nbformat_minor": 2
}
