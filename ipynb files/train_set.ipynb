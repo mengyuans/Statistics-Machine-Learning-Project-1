{
 "cells": [
  {
   "cell_type": "code",
   "execution_count": 4,
   "metadata": {
    "colab": {},
    "colab_type": "code",
    "executionInfo": {
     "elapsed": 1022,
     "status": "ok",
     "timestamp": 1600096116562,
     "user": {
      "displayName": "Yuzhou Feng",
      "photoUrl": "",
      "userId": "13975821247008883080"
     },
     "user_tz": -600
    },
    "id": "565HdXRxJsvS"
   },
   "outputs": [],
   "source": [
    "from tqdm import tqdm\n",
    "import random\n",
    "import pandas as pd\n",
    "import numpy as np"
   ]
  },
  {
   "cell_type": "code",
   "execution_count": 2,
   "metadata": {
    "colab": {
     "base_uri": "https://localhost:8080/",
     "height": 34
    },
    "colab_type": "code",
    "executionInfo": {
     "elapsed": 25789,
     "status": "ok",
     "timestamp": 1600096078343,
     "user": {
      "displayName": "Yuzhou Feng",
      "photoUrl": "",
      "userId": "13975821247008883080"
     },
     "user_tz": -600
    },
    "id": "fP6ZI63UJ0sg",
    "outputId": "79765703-9b83-4ad9-ad96-5f2a873986a9"
   },
   "outputs": [
    {
     "name": "stdout",
     "output_type": "stream",
     "text": [
      "Mounted at /content/drive\n"
     ]
    }
   ],
   "source": [
    "from google.colab import drive\n",
    "drive.mount('/content/drive')"
   ]
  },
  {
   "cell_type": "code",
   "execution_count": 3,
   "metadata": {
    "colab": {},
    "colab_type": "code",
    "executionInfo": {
     "elapsed": 5713,
     "status": "ok",
     "timestamp": 1600096113658,
     "user": {
      "displayName": "Yuzhou Feng",
      "photoUrl": "",
      "userId": "13975821247008883080"
     },
     "user_tz": -600
    },
    "id": "2ZeEMewVJsvc"
   },
   "outputs": [],
   "source": [
    "# import train\n",
    "train = {}\n",
    "with open('/content/drive/My Drive/COMP90051_project1/raw_data/train.txt') as f: \n",
    "    for line in f:\n",
    "        words = line.split(\"\\t\")\n",
    "        words[-1] = words[-1][:-1]\n",
    "        train[words[0]] = words[1:]"
   ]
  },
  {
   "cell_type": "code",
   "execution_count": 5,
   "metadata": {
    "colab": {},
    "colab_type": "code",
    "executionInfo": {
     "elapsed": 995,
     "status": "ok",
     "timestamp": 1600096123922,
     "user": {
      "displayName": "Yuzhou Feng",
      "photoUrl": "",
      "userId": "13975821247008883080"
     },
     "user_tz": -600
    },
    "id": "nZSqYBXTJsvk"
   },
   "outputs": [],
   "source": [
    "train_modified = train\n"
   ]
  },
  {
   "cell_type": "code",
   "execution_count": 6,
   "metadata": {
    "colab": {},
    "colab_type": "code",
    "executionInfo": {
     "elapsed": 14163,
     "status": "ok",
     "timestamp": 1600096167473,
     "user": {
      "displayName": "Yuzhou Feng",
      "photoUrl": "",
      "userId": "13975821247008883080"
     },
     "user_tz": -600
    },
    "id": "jXgyB1tgJsvm"
   },
   "outputs": [],
   "source": [
    "\n",
    "# generate train set (ture)\n",
    "train_set_source = []\n",
    "for i in range(19998):\n",
    "    r = random.random()\n",
    "    if (len(train_modified[list(train_modified.keys())[i]]) > 1) and ( r> 0.5):\n",
    "        train_set_source.append(list(train_modified.keys())[i])\n",
    "\n",
    "train_set_sink = []\n",
    "for source in train_set_source:\n",
    "    sink = random.sample(train_modified[source],1)[0]\n",
    "    train_set_sink.append(sink)  \n",
    "    #train_modified[source].remove(sink)\n",
    "    \n",
    "label = [\"1\"] * len(train_set_source)"
   ]
  },
  {
   "cell_type": "code",
   "execution_count": 7,
   "metadata": {
    "colab": {
     "base_uri": "https://localhost:8080/",
     "height": 68
    },
    "colab_type": "code",
    "executionInfo": {
     "elapsed": 1198,
     "status": "ok",
     "timestamp": 1600096173812,
     "user": {
      "displayName": "Yuzhou Feng",
      "photoUrl": "",
      "userId": "13975821247008883080"
     },
     "user_tz": -600
    },
    "id": "NuOQ4y96Jsvp",
    "outputId": "59caa37d-c250-4778-ffe0-1f6a83c02ef5"
   },
   "outputs": [
    {
     "name": "stdout",
     "output_type": "stream",
     "text": [
      "9613\n",
      "9613\n",
      "9613\n"
     ]
    }
   ],
   "source": [
    "print(len(train_set_source))\n",
    "print(len(train_set_sink))\n",
    "print(len(label))"
   ]
  },
  {
   "cell_type": "code",
   "execution_count": null,
   "metadata": {
    "colab": {},
    "colab_type": "code",
    "id": "wqiybvAAJsvs",
    "outputId": "724008e9-faac-4c8a-800e-9b948a10b5de"
   },
   "outputs": [],
   "source": [
    "# generate train set (false)\n",
    "train_set_source2 = []\n",
    "for i in random.sample(list(np.arange(19998)),len(train_set_source)):\n",
    "    train_set_source2.append(list(train.keys())[i])\n",
    "\n",
    "# get all the unique sinks in modified graph\n",
    "# refer to the code at the bottom (union)\n",
    "union = list(union)\n",
    "\n",
    "train_set_sink2 = []\n",
    "for source in tqdm(train_set_source2):\n",
    "    sink = random.sample(union,1)[0]\n",
    "    while sink in train_modified[source]:\n",
    "        sink = random.sample(union,1)[0]\n",
    "    train_set_sink2.append(sink)  \n",
    "\n",
    "label2 = [\"0\"] * len(train_set_source2)"
   ]
  },
  {
   "cell_type": "code",
   "execution_count": null,
   "metadata": {
    "colab": {},
    "colab_type": "code",
    "id": "QQsbsTSTJsvv",
    "outputId": "7e639a79-2e50-4a31-dda3-c0ccd03aa75f"
   },
   "outputs": [
    {
     "name": "stdout",
     "output_type": "stream",
     "text": [
      "9675\n",
      "9675\n",
      "9675\n"
     ]
    }
   ],
   "source": [
    "print(len(train_set_source2))\n",
    "print(len(train_set_sink2))\n",
    "print(len(label2))"
   ]
  },
  {
   "cell_type": "code",
   "execution_count": null,
   "metadata": {
    "colab": {},
    "colab_type": "code",
    "id": "nZ1X1phpJsvy"
   },
   "outputs": [],
   "source": [
    "train_set_source = train_set_source+train_set_source2\n",
    "train_set_sink = train_set_sink+train_set_sink2\n",
    "label = label+label2"
   ]
  },
  {
   "cell_type": "code",
   "execution_count": null,
   "metadata": {
    "colab": {},
    "colab_type": "code",
    "id": "Bjz4RwfTJsv0",
    "outputId": "0bfc48f7-00d6-4718-8de4-f51d10c200c7"
   },
   "outputs": [
    {
     "name": "stdout",
     "output_type": "stream",
     "text": [
      "19350\n",
      "19350\n",
      "19350\n"
     ]
    }
   ],
   "source": [
    "print(len(train_set_source))\n",
    "print(len(train_set_sink))\n",
    "print(len(label))"
   ]
  },
  {
   "cell_type": "code",
   "execution_count": null,
   "metadata": {
    "colab": {},
    "colab_type": "code",
    "id": "4S0KEFSCJsv3"
   },
   "outputs": [],
   "source": [
    "# export train_modified dict as a txt\n",
    "import json\n",
    "\n",
    "with open('train_modified.txt', 'w') as file:\n",
    "     file.write(json.dumps(train_modified))"
   ]
  },
  {
   "cell_type": "code",
   "execution_count": null,
   "metadata": {
    "colab": {},
    "colab_type": "code",
    "id": "oeWwruXWJsv5"
   },
   "outputs": [],
   "source": [
    "# export train_set edges\n",
    "train_set = pd.DataFrame(train_set_source)\n",
    "train_set.insert(1,\"train_sink\",train_set_sink)\n",
    "train_set.insert(2,\"label\",label)\n",
    "train_set = train_set.rename(columns={0: 'train_source'})\n",
    "train_set.to_csv(\"train_set.csv\")"
   ]
  },
  {
   "cell_type": "code",
   "execution_count": 8,
   "metadata": {
    "colab": {
     "base_uri": "https://localhost:8080/",
     "height": 238
    },
    "colab_type": "code",
    "executionInfo": {
     "elapsed": 753348,
     "status": "ok",
     "timestamp": 1600096951864,
     "user": {
      "displayName": "Yuzhou Feng",
      "photoUrl": "",
      "userId": "13975821247008883080"
     },
     "user_tz": -600
    },
    "id": "pKH0PTELJsv9",
    "outputId": "ec8c6316-9a75-43a2-a8db-90005b9aac5d"
   },
   "outputs": [
    {
     "name": "stderr",
     "output_type": "stream",
     "text": [
      "100%|██████████| 1000/1000 [02:06<00:00,  7.89it/s]\n",
      "100%|██████████| 1000/1000 [00:46<00:00, 21.37it/s]\n",
      "100%|██████████| 1000/1000 [00:41<00:00, 23.81it/s]\n",
      "100%|██████████| 1000/1000 [00:40<00:00, 24.41it/s]\n",
      "100%|██████████| 1000/1000 [00:22<00:00, 44.34it/s]\n",
      "100%|██████████| 1000/1000 [00:25<00:00, 39.15it/s]\n",
      "100%|██████████| 1000/1000 [00:16<00:00, 59.84it/s]\n",
      "100%|██████████| 1000/1000 [00:10<00:00, 96.62it/s]\n",
      "100%|██████████| 1000/1000 [00:03<00:00, 252.78it/s]\n",
      "100%|██████████| 3000/3000 [01:36<00:00, 31.22it/s]\n",
      "100%|██████████| 3000/3000 [01:48<00:00, 27.56it/s]\n",
      "100%|██████████| 3000/3000 [02:14<00:00, 22.35it/s]\n",
      "100%|██████████| 2000/2000 [01:14<00:00, 26.76it/s]\n"
     ]
    }
   ],
   "source": [
    "union1 = set([])\n",
    "for i in tqdm(range(1000)):\n",
    "    union1 = union1 | set(train_modified[list(train_modified.keys())[i]])\n",
    "union2 = set([])\n",
    "for i in tqdm(range(1000,2000)):\n",
    "    union2 = union2 | set(train_modified[list(train_modified.keys())[i]])\n",
    "union3 = set([])\n",
    "for i in tqdm(range(2000,3000)):\n",
    "    union3 = union3 | set(train_modified[list(train_modified.keys())[i]])\n",
    "union4 = set([])\n",
    "for i in tqdm(range(3000,4000)):\n",
    "    union4 = union4 | set(train_modified[list(train_modified.keys())[i]])\n",
    "union5 = set([])\n",
    "for i in tqdm(range(4000,5000)):\n",
    "    union5 = union5 | set(train_modified[list(train_modified.keys())[i]])\n",
    "union6 = set([])\n",
    "for i in tqdm(range(5000,6000)):\n",
    "    union6 = union6 | set(train_modified[list(train_modified.keys())[i]])\n",
    "union7 = set([])\n",
    "for i in tqdm(range(6000,7000)):\n",
    "    union7 = union7 | set(train_modified[list(train_modified.keys())[i]])\n",
    "union8 = set([])\n",
    "for i in tqdm(range(7000,8000)):\n",
    "    union8 = union8 | set(train_modified[list(train_modified.keys())[i]])\n",
    "union9 = set([])\n",
    "for i in tqdm(range(8000,9000)):\n",
    "    union9 = union9 | set(train_modified[list(train_modified.keys())[i]])\n",
    "union10 = set([])\n",
    "for i in tqdm(range(9000,12000)):\n",
    "    union10 = union10 | set(train_modified[list(train_modified.keys())[i]])\n",
    "union11 = set([])\n",
    "for i in tqdm(range(12000,15000)):\n",
    "    union11 = union11 | set(train_modified[list(train_modified.keys())[i]])\n",
    "union12 = set([])\n",
    "for i in tqdm(range(15000,18000)):\n",
    "    union12 = union12 | set(train_modified[list(train_modified.keys())[i]])\n",
    "union13 = set([])\n",
    "for i in tqdm(range(18000,20000)):\n",
    "    union13 = union13 | set(train_modified[list(train_modified.keys())[i]])\n",
    "uniona = union1 | union2\n",
    "unionb = union3 | union4\n",
    "unionc = union5 | union6\n",
    "uniond = union7 | union8\n",
    "unione = union9 | union10\n",
    "unionb = union11 | union12\n",
    "unionA = uniona | unionb\n",
    "unionB = unionc | uniond\n",
    "unionC = unione | union13\n",
    "union = unionA | unionB | unionC"
   ]
  },
  {
   "cell_type": "code",
   "execution_count": null,
   "metadata": {
    "colab": {},
    "colab_type": "code",
    "id": "ArP2I_4UJsv_"
   },
   "outputs": [],
   "source": [
    "# export union list as a txt\n",
    "with open('union.txt', 'w') as file:\n",
    "     file.write(json.dumps(list(union)))"
   ]
  },
  {
   "cell_type": "code",
   "execution_count": null,
   "metadata": {
    "colab": {},
    "colab_type": "code",
    "id": "CRsNSSS5JswG"
   },
   "outputs": [],
   "source": []
  }
 ],
 "metadata": {
  "accelerator": "GPU",
  "colab": {
   "name": "create_train_set.ipynb",
   "provenance": []
  },
  "kernelspec": {
   "display_name": "Python 3",
   "language": "python",
   "name": "python3"
  },
  "language_info": {
   "codemirror_mode": {
    "name": "ipython",
    "version": 3
   },
   "file_extension": ".py",
   "mimetype": "text/x-python",
   "name": "python",
   "nbconvert_exporter": "python",
   "pygments_lexer": "ipython3",
   "version": "3.7.1"
  }
 },
 "nbformat": 4,
 "nbformat_minor": 2
}
