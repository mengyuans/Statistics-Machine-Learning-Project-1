{
 "cells": [
  {
   "cell_type": "code",
   "execution_count": null,
   "metadata": {},
   "outputs": [],
   "source": [
    "import pandas as pd\n",
    "import numpy as np\n",
    "import random\n",
    "import networkx as nx\n",
    "from tqdm import tqdm\n",
    "import re\n",
    "import matplotlib.pyplot as plt\n",
    "import ast\n",
    "\n",
    "from sklearn.linear_model import LogisticRegression\n",
    "from sklearn.metrics import classification_report, roc_auc_score\n",
    "from sklearn.model_selection import train_test_split\n",
    "from sklearn.metrics import confusion_matrix"
   ]
  },
  {
   "cell_type": "code",
   "execution_count": null,
   "metadata": {},
   "outputs": [],
   "source": [
    "# convert txt file to a dict\n",
    "import ast\n",
    "file = open(\"train_modified.txt\", \"r\")\n",
    "\n",
    "contents = file.read()\n",
    "train_modified = ast.literal_eval(contents)\n",
    "# train_mopdified will be the dictionary that represents the graph\n",
    "\n",
    "file.close()"
   ]
  },
  {
   "cell_type": "code",
   "execution_count": null,
   "metadata": {},
   "outputs": [],
   "source": [
    "# convert the sources and sinks in csv file into lists\n",
    "train_set = pd.read_csv(\"train_set.csv\", index_col = 0)\n"
   ]
  },
  {
   "cell_type": "code",
   "execution_count": null,
   "metadata": {
    "scrolled": true
   },
   "outputs": [],
   "source": [
    "# explore the mini datasets - check if all test_mini source and sink in train_mini_graph\n",
    "source_num = 0\n",
    "sink_num = 0\n",
    "sink_sink = 0\n",
    "\n",
    "for source in tqdm(train_set.train_source):\n",
    "    if str(source) in train_modified.keys():\n",
    "        source_num += 1\n",
    "        \n",
    "for sink in tqdm(train_set.train_sink):\n",
    "    if str(sink) in train_modified.keys():\n",
    "        sink_num += 1\n",
    "        \n",
    "#for sink in tqdm(train_set.train_sink):\n",
    "##    for j in train_modified:\n",
    " #       if str(sink) in train_modified[str(j)]:\n",
    " #           sink_sink += 1\n",
    "            \n",
    "print(source_num, \"source show up in train_mini_graph's source\")\n",
    "print(sink_num, \"sink show up in train_mini_graph's source\")\n",
    "print(sink_sink, \"test sink show up in train_mini_graph's sink\")"
   ]
  },
  {
   "cell_type": "code",
   "execution_count": null,
   "metadata": {},
   "outputs": [],
   "source": [
    "# people the source follow \n",
    "source_followee = {}  # len = 14610\n",
    "for source in tqdm(train_set['train_source']):\n",
    "    source = str(source)\n",
    "    source_followee[source] = train_modified[source]\n",
    "    \n",
    "# number of people the source follow\n",
    "each_followee = {}\n",
    "for each in source_followee:\n",
    "    each_followee[each] = len(source_followee[each])\n",
    "\n",
    "\n",
    "# people follow the source\n",
    "source_follower = {}                        \n",
    "for source in tqdm(train_set['train_source']): \n",
    "    source_follower[str(source)] = []\n",
    "    for key in train_modified.keys():\n",
    "        if str(source) in train_modified[key]:\n",
    "            source_follower[str(source)].append(key)\n",
    "\n"
   ]
  },
  {
   "cell_type": "code",
   "execution_count": null,
   "metadata": {},
   "outputs": [],
   "source": [
    "# people the sink follow in the mini_train\n",
    "sink_followee = {}  # len =  2016 \n",
    "for sink in tqdm(train_set['train_sink']):\n",
    "    sink = str(sink)\n",
    "    if sink in train_modified.keys():\n",
    "        sink_followee[sink] = train_modified[sink]\n",
    "\n",
    "# number of people the sink follow\n",
    "each_sink_followee = {}\n",
    "for each in sink_followee:\n",
    "    each_sink_followee[each] = len(sink_followee[each]) \n",
    "    \n",
    "# people follow the sink in the mini_train\n",
    "sink_follower = {} # len = 18342\n",
    "for sink in tqdm(train_set['train_sink']): \n",
    "    sink_follower[str(sink)] = []\n",
    "    for key in train_modified.keys():\n",
    "        if str(sink) in train_modified[key]:\n",
    "            sink_follower[str(sink)].append(key)"
   ]
  },
  {
   "cell_type": "code",
   "execution_count": null,
   "metadata": {},
   "outputs": [],
   "source": [
    "len(train_set['train_sink'])"
   ]
  },
  {
   "cell_type": "code",
   "execution_count": null,
   "metadata": {},
   "outputs": [],
   "source": [
    "# check if source_follower/sink_follower and source_followee/sink_followee have intersection parts\n",
    "# # A-B 和 B-A 只算一次\n",
    "# 得到people 同时follow和被follow的次数\n",
    "intersect_source = {} # len = 14610\n",
    "for key in tqdm(source_follower.keys()):\n",
    "    intersect_num = 0\n",
    "    for flr in source_follower[key]:\n",
    "        if flr in source_followee[key]:\n",
    "            intersect_num += 1\n",
    "    intersect_source[key] = intersect_num\n",
    "\n",
    "\n",
    "intersect_sink = {} # len = 2016\n",
    "for key in tqdm(sink_followee.keys()):\n",
    "    intersect_n = 0\n",
    "    for flr in sink_followee[key]:\n",
    "        if flr in sink_follower[key]:\n",
    "            intersect_n += 1\n",
    "    intersect_sink[key] = intersect_n    \n"
   ]
  },
  {
   "cell_type": "code",
   "execution_count": null,
   "metadata": {},
   "outputs": [],
   "source": [
    "# source degree centrality\n",
    "source_degree = {} # len = 14610\n",
    "for source in train_set['train_source']:\n",
    "    degree = each_followee[str(source)] + len(source_follower[str(source)]) - intersect_source[str(source)]\n",
    "    source_degree[str(source)] = degree\n"
   ]
  },
  {
   "cell_type": "code",
   "execution_count": null,
   "metadata": {},
   "outputs": [],
   "source": [
    "# sink degree centrality\n",
    "sink_degree = {}\n",
    "\n",
    "for sink in tqdm(train_set['train_sink']):\n",
    "    if str(sink) in sink_followee.keys():\n",
    "        degree = each_sink_followee[str(sink)] + len(sink_follower[str(sink)]) - intersect_sink[str(sink)]\n",
    "        sink_degree[str(sink)] = degree\n",
    "    elif str(sink) in sink_follower.keys():\n",
    "        degree_new = len(sink_follower[str(sink)])\n",
    "        sink_degree[str(sink)] = degree_new"
   ]
  },
  {
   "cell_type": "code",
   "execution_count": null,
   "metadata": {},
   "outputs": [],
   "source": [
    "len(source_followee)"
   ]
  },
  {
   "cell_type": "code",
   "execution_count": null,
   "metadata": {},
   "outputs": [],
   "source": [
    "a = [str(i) for i in train_set['train_sink']]\n",
    "len(set(a))\n"
   ]
  },
  {
   "cell_type": "code",
   "execution_count": null,
   "metadata": {},
   "outputs": [],
   "source": [
    "len(list(set([i for i in a if a.count(i)==1])))\n",
    "# 613 > 1 的sink"
   ]
  },
  {
   "cell_type": "code",
   "execution_count": null,
   "metadata": {},
   "outputs": [],
   "source": [
    "# sink array\n",
    "sink_array = []\n",
    "for i in tqdm(train_set['train_sink']): #19350\n",
    "    sink_array.append(sink_degree[str(i)])\n"
   ]
  },
  {
   "cell_type": "code",
   "execution_count": null,
   "metadata": {},
   "outputs": [],
   "source": [
    "# source array\n",
    "source_array = []\n",
    "for i in tqdm(train_set['train_source']): #19350\n",
    "    source_array.append(source_degree[str(i)])\n",
    "    "
   ]
  },
  {
   "cell_type": "code",
   "execution_count": null,
   "metadata": {},
   "outputs": [],
   "source": [
    "train_set['source_degree'] = source_array\n",
    "train_set['sink_degree'] = sink_array"
   ]
  },
  {
   "cell_type": "code",
   "execution_count": null,
   "metadata": {},
   "outputs": [],
   "source": [
    "train_set.to_csv('degree_centrality.csv')\n"
   ]
  }
 ],
 "metadata": {
  "kernelspec": {
   "display_name": "Python 3",
   "language": "python",
   "name": "python3"
  },
  "language_info": {
   "codemirror_mode": {
    "name": "ipython",
    "version": 3
   },
   "file_extension": ".py",
   "mimetype": "text/x-python",
   "name": "python",
   "nbconvert_exporter": "python",
   "pygments_lexer": "ipython3",
   "version": "3.7.1"
  }
 },
 "nbformat": 4,
 "nbformat_minor": 4
}
