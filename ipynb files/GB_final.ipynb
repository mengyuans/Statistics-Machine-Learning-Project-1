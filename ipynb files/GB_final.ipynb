{
 "cells": [
  {
   "cell_type": "code",
   "execution_count": null,
   "metadata": {
    "colab": {},
    "colab_type": "code",
    "executionInfo": {
     "elapsed": 891,
     "status": "ok",
     "timestamp": 1600316047762,
     "user": {
      "displayName": "Yuzhou Feng",
      "photoUrl": "",
      "userId": "13975821247008883080"
     },
     "user_tz": -600
    },
    "id": "sZ3afUHO0vCE"
   },
   "outputs": [],
   "source": [
    "import pandas as pd\n",
    "import numpy as np\n",
    "import re\n",
    "import matplotlib.pyplot as plt\n",
    "import ast\n",
    "from sklearn.model_selection import train_test_split\n",
    "from sklearn.metrics import accuracy_score\n",
    "\n",
    "from sklearn.linear_model import LogisticRegression\n",
    "from sklearn.metrics import classification_report, roc_auc_score\n",
    "from sklearn.metrics import confusion_matrix"
   ]
  },
  {
   "cell_type": "code",
   "execution_count": null,
   "metadata": {
    "colab": {
     "base_uri": "https://localhost:8080/",
     "height": 136
    },
    "colab_type": "code",
    "executionInfo": {
     "elapsed": 833,
     "status": "ok",
     "timestamp": 1600316136531,
     "user": {
      "displayName": "Yuzhou Feng",
      "photoUrl": "",
      "userId": "13975821247008883080"
     },
     "user_tz": -600
    },
    "id": "GOtjTeTs0vul",
    "outputId": "612e92a5-1a9f-4985-9eef-08a1a54cca29"
   },
   "outputs": [],
   "source": [
    "train_model = pd.read_csv('/content/drive/My Drive/COMP90051_project1/new_train_model/train_full_feature.csv')\n",
    "train_model.set_index('Id')\n",
    "train_f5 = pd.DataFrame(train_model[[\"common_interest_rank\",\"common_friends_rank\",\"distance_rank\",\"source_degree_rank\",\"sink_degree_rank\",'label']])\n",
    "X = np.array(train_f5[[\"common_interest_rank\",\"common_friends_rank\",\"distance_rank\",\"source_degree_rank\",\"sink_degree_rank\"]])\n",
    "y = np.array(train_f5.label)\n",
    "print(X, y)\n",
    "X_train, X_test, y_train, y_test = train_test_split(X, y, test_size = 0.001, random_state = 0)"
   ]
  },
  {
   "cell_type": "code",
   "execution_count": null,
   "metadata": {
    "colab": {},
    "colab_type": "code",
    "executionInfo": {
     "elapsed": 1032,
     "status": "ok",
     "timestamp": 1600316139800,
     "user": {
      "displayName": "Yuzhou Feng",
      "photoUrl": "",
      "userId": "13975821247008883080"
     },
     "user_tz": -600
    },
    "id": "bIfN_v8d6HRa"
   },
   "outputs": [],
   "source": [
    "df = pd.read_csv('/content/drive/My Drive/COMP90051_project1/new_train_model/test_full_feature.csv')\n",
    "test = df[[\"common_interest_rank\",\"common_friends_rank\",\"distance_rank\",\"source_degree_rank\",\"sink_degree_rank\"]]"
   ]
  },
  {
   "cell_type": "code",
   "execution_count": null,
   "metadata": {
    "colab": {
     "base_uri": "https://localhost:8080/",
     "height": 51
    },
    "colab_type": "code",
    "executionInfo": {
     "elapsed": 3462,
     "status": "ok",
     "timestamp": 1600316144465,
     "user": {
      "displayName": "Yuzhou Feng",
      "photoUrl": "",
      "userId": "13975821247008883080"
     },
     "user_tz": -600
    },
    "id": "am8J87pYybZp",
    "outputId": "2b9ecba0-9345-4cc6-c00e-2c2bd592e4d1"
   },
   "outputs": [],
   "source": [
    "from sklearn.ensemble import GradientBoostingClassifier\n",
    "GB = GradientBoostingClassifier(random_state=10)\n",
    "GB.fit(X_train, y_train)\n",
    "y_pred_GB = GB.predict(X_test)\n",
    "\n",
    "print('validation accuracy is', accuracy_score(y_test, y_pred_GB))\n",
    "\n",
    "prob_GB = list(GB.predict_proba(test))\n",
    "n_GB = 0 #1077\n",
    "for i in GB.predict_proba(test)[:,1]:\n",
    "    if i >= 0.5:\n",
    "        n_GB+=1\n",
    "print(n_GB, 'of 2000 are classified as label 1')\n",
    "\n",
    "l_GB = []\n",
    "for i in prob_GB:\n",
    "    l_GB.append(i[1])\n",
    "index = list(range(1,2001))\n",
    "data_GB = {'Id':index, 'Predicted':l_GB}\n",
    "GB_v1 = pd.DataFrame(data_GB)\n",
    "GB_v1 = GB_v1.set_index('Id')\n",
    "#GB_v1.to_csv('GB_v1.csv')"
   ]
  },
  {
   "cell_type": "code",
   "execution_count": null,
   "metadata": {
    "colab": {
     "base_uri": "https://localhost:8080/",
     "height": 496
    },
    "colab_type": "code",
    "executionInfo": {
     "elapsed": 53964,
     "status": "ok",
     "timestamp": 1600316208524,
     "user": {
      "displayName": "Yuzhou Feng",
      "photoUrl": "",
      "userId": "13975821247008883080"
     },
     "user_tz": -600
    },
    "id": "RPfe0G7azv48",
    "outputId": "740e4941-3ede-44fb-f5c8-0611ca0a25e1"
   },
   "outputs": [],
   "source": [
    "# tuning GB parameters\n",
    "from sklearn.model_selection import GridSearchCV #Performing grid search\n",
    "\n",
    "predictors = X\n",
    "param_test1 = {'n_estimators':range(10,81,10)}\n",
    "gsearch1 = GridSearchCV(estimator = GradientBoostingClassifier(learning_rate=0.1, min_samples_split=150,min_samples_leaf=50,max_depth=5,max_features='sqrt',random_state=10), \n",
    "param_grid = param_test1, scoring='roc_auc',n_jobs=4,iid=False, cv=10, refit=True)\n",
    "predictors = [\"common_interest_rank\",\"common_friends_rank\",\"distance_rank\",\"source_degree_rank\",\"sink_degree_rank\"]\n",
    "target = ['label']\n",
    "gsearch1.fit(train_f5[predictors],train_f5[target])"
   ]
  },
  {
   "cell_type": "code",
   "execution_count": null,
   "metadata": {
    "colab": {
     "base_uri": "https://localhost:8080/",
     "height": 34
    },
    "colab_type": "code",
    "executionInfo": {
     "elapsed": 1089,
     "status": "ok",
     "timestamp": 1600316440736,
     "user": {
      "displayName": "Yuzhou Feng",
      "photoUrl": "",
      "userId": "13975821247008883080"
     },
     "user_tz": -600
    },
    "id": "QnLYGWRqzzon",
    "outputId": "602ce0a9-1634-4d6d-fa9c-a7d729cdb1d6"
   },
   "outputs": [],
   "source": [
    "gsearch1.best_params_, gsearch1.best_score_"
   ]
  },
  {
   "cell_type": "code",
   "execution_count": null,
   "metadata": {
    "colab": {
     "base_uri": "https://localhost:8080/",
     "height": 513
    },
    "colab_type": "code",
    "executionInfo": {
     "elapsed": 168581,
     "status": "ok",
     "timestamp": 1600316397270,
     "user": {
      "displayName": "Yuzhou Feng",
      "photoUrl": "",
      "userId": "13975821247008883080"
     },
     "user_tz": -600
    },
    "id": "4SBHbLvVz16e",
    "outputId": "c5b01c47-f764-4477-94a9-282cfb4084d8"
   },
   "outputs": [],
   "source": [
    "# mini_samples_split normally is 0.5-1% of total values\n",
    "param_test2 = {'max_depth':range(1,6,1), 'min_samples_split':range(20,251,20)}\n",
    "gsearch2 = GridSearchCV(estimator = GradientBoostingClassifier(learning_rate=0.1, n_estimators=30, max_features='sqrt', random_state=10), \n",
    "param_grid = param_test2, scoring='roc_auc',n_jobs=4,iid=False, cv=10, refit=True)\n",
    "gsearch2.fit(train_f5[predictors],train_f5[target])\n",
    "\n"
   ]
  },
  {
   "cell_type": "code",
   "execution_count": null,
   "metadata": {
    "colab": {
     "base_uri": "https://localhost:8080/",
     "height": 34
    },
    "colab_type": "code",
    "executionInfo": {
     "elapsed": 986,
     "status": "ok",
     "timestamp": 1600316453643,
     "user": {
      "displayName": "Yuzhou Feng",
      "photoUrl": "",
      "userId": "13975821247008883080"
     },
     "user_tz": -600
    },
    "id": "xLfTJuTi0AFg",
    "outputId": "d47bd937-8bfb-4a45-f7cb-36365131bb0b"
   },
   "outputs": [],
   "source": [
    "gsearch2.best_params_, gsearch2.best_score_"
   ]
  },
  {
   "cell_type": "code",
   "execution_count": null,
   "metadata": {
    "colab": {
     "base_uri": "https://localhost:8080/",
     "height": 513
    },
    "colab_type": "code",
    "executionInfo": {
     "elapsed": 285561,
     "status": "ok",
     "timestamp": 1600316753758,
     "user": {
      "displayName": "Yuzhou Feng",
      "photoUrl": "",
      "userId": "13975821247008883080"
     },
     "user_tz": -600
    },
    "id": "0lPuu7Q70DN1",
    "outputId": "24df7ee5-e0c2-46c7-996f-28887755bbce"
   },
   "outputs": [],
   "source": [
    "param_test3 = {'min_samples_split':range(20,251,20), 'min_samples_leaf':range(1,71,10)}\n",
    "gsearch3 = GridSearchCV(estimator = GradientBoostingClassifier(learning_rate=0.1, n_estimators=30,max_depth=4,max_features='sqrt', subsample=0.8, random_state=10), \n",
    "param_grid = param_test3, scoring='roc_auc',n_jobs=4,iid=False, cv=10)\n",
    "gsearch3.fit(train_f5[predictors],train_f5[target])"
   ]
  },
  {
   "cell_type": "code",
   "execution_count": null,
   "metadata": {
    "colab": {
     "base_uri": "https://localhost:8080/",
     "height": 34
    },
    "colab_type": "code",
    "executionInfo": {
     "elapsed": 883,
     "status": "ok",
     "timestamp": 1600316862458,
     "user": {
      "displayName": "Yuzhou Feng",
      "photoUrl": "",
      "userId": "13975821247008883080"
     },
     "user_tz": -600
    },
    "id": "apt7oCTS0F8N",
    "outputId": "8a7fe7f5-52e0-4796-f54c-34e70ec90a81"
   },
   "outputs": [],
   "source": [
    "gsearch3.best_params_, gsearch3.best_score_"
   ]
  },
  {
   "cell_type": "code",
   "execution_count": null,
   "metadata": {
    "colab": {
     "base_uri": "https://localhost:8080/",
     "height": 51
    },
    "colab_type": "code",
    "executionInfo": {
     "elapsed": 1285,
     "status": "ok",
     "timestamp": 1600316866662,
     "user": {
      "displayName": "Yuzhou Feng",
      "photoUrl": "",
      "userId": "13975821247008883080"
     },
     "user_tz": -600
    },
    "id": "Fd8nI1uj0I6N",
    "outputId": "9ecd34dc-fbcb-4e85-8b80-d3ee0109e2a4"
   },
   "outputs": [],
   "source": [
    "GB_tune = gsearch3.best_estimator_\n",
    "GB_tune.fit(X_train, y_train)\n",
    "y_pred_GB_tune = GB_tune.predict(X_test)\n",
    "print('validation accuracy is', roc_auc_score(y_test, y_pred_GB_tune))\n",
    "\n",
    "prob_GB_tune = list(GB_tune.predict_proba(test))\n",
    "n_GB_tune = 0 #1032\n",
    "for i in GB_tune.predict_proba(test)[:,1]:\n",
    "    if i >= 0.5:\n",
    "        n_GB_tune += 1\n",
    "        \n",
    "print(n_GB_tune, 'of 2000 are classified as label 1')\n",
    "\n",
    "l_GB_tune = []\n",
    "for i in prob_GB_tune:\n",
    "    l_GB_tune.append(i[1])\n",
    "index = list(range(1,2001))\n",
    "data_GB_tune = {'Id':index, 'Predicted':l_GB_tune}\n",
    "GB_v1 = pd.DataFrame(data_GB_tune)\n",
    "GB_v1 = GB_v1.set_index('Id')\n",
    "#GB_v1.to_csv('GB_v2.csv')"
   ]
  },
  {
   "cell_type": "code",
   "execution_count": null,
   "metadata": {
    "colab": {
     "base_uri": "https://localhost:8080/",
     "height": 479
    },
    "colab_type": "code",
    "executionInfo": {
     "elapsed": 14700,
     "status": "ok",
     "timestamp": 1600316903798,
     "user": {
      "displayName": "Yuzhou Feng",
      "photoUrl": "",
      "userId": "13975821247008883080"
     },
     "user_tz": -600
    },
    "id": "HQ0DglX90Lnm",
    "outputId": "e9cc5b5e-7e03-492d-f73c-5b4298834e46"
   },
   "outputs": [],
   "source": [
    "param_test4 = {'max_features':range(1,6,2)}\n",
    "gsearch4 = GridSearchCV(estimator = GradientBoostingClassifier(learning_rate=0.1, n_estimators=30,max_depth=4, min_samples_split=160, min_samples_leaf=61, random_state=10),\n",
    "param_grid = param_test4, scoring='roc_auc',n_jobs=4,iid=False, cv=10)\n",
    "gsearch4.fit(train_f5[predictors],train_f5[target])"
   ]
  },
  {
   "cell_type": "code",
   "execution_count": null,
   "metadata": {
    "colab": {
     "base_uri": "https://localhost:8080/",
     "height": 34
    },
    "colab_type": "code",
    "executionInfo": {
     "elapsed": 1175,
     "status": "ok",
     "timestamp": 1600272022681,
     "user": {
      "displayName": "Yuzhou Feng",
      "photoUrl": "",
      "userId": "13975821247008883080"
     },
     "user_tz": -600
    },
    "id": "pLwgz1QQ0OdB",
    "outputId": "572290d7-a251-4c1f-c44d-8f7667605b54"
   },
   "outputs": [],
   "source": [
    "gsearch4.best_params_, gsearch4.best_score_"
   ]
  },
  {
   "cell_type": "code",
   "execution_count": null,
   "metadata": {
    "colab": {
     "base_uri": "https://localhost:8080/",
     "height": 51
    },
    "colab_type": "code",
    "executionInfo": {
     "elapsed": 1271,
     "status": "ok",
     "timestamp": 1600316989725,
     "user": {
      "displayName": "Yuzhou Feng",
      "photoUrl": "",
      "userId": "13975821247008883080"
     },
     "user_tz": -600
    },
    "id": "Om_MImAI0Q2g",
    "outputId": "5f3162c7-c883-4133-ee73-c9c6f8b1ea5e"
   },
   "outputs": [],
   "source": [
    "########### try this GB ####################\n",
    "gbm_tuned_1 = GradientBoostingClassifier(learning_rate=0.1, n_estimators=30,max_depth=4, min_samples_split=160,min_samples_leaf=61, random_state=10, max_features=3)\n",
    "gbm_tuned_1.fit(X_train, y_train)\n",
    "y_pred_GB_1 = gbm_tuned_1.predict(X_test)\n",
    "\n",
    "print('validation accuracy is', roc_auc_score(y_test, y_pred_GB_1))\n",
    "\n",
    "prob_gbm_1 = list(gbm_tuned_1.predict_proba(test))\n",
    "n_gbm_1 = 0 #1055\n",
    "for i in gbm_tuned_1.predict_proba(test)[:,1]:\n",
    "    if i >= 0.5:\n",
    "        n_gbm_1+=1\n",
    "print(n_gbm_1, 'of 2000 are classified as label 1')"
   ]
  },
  {
   "cell_type": "code",
   "execution_count": null,
   "metadata": {
    "colab": {},
    "colab_type": "code",
    "executionInfo": {
     "elapsed": 887,
     "status": "ok",
     "timestamp": 1600316999121,
     "user": {
      "displayName": "Yuzhou Feng",
      "photoUrl": "",
      "userId": "13975821247008883080"
     },
     "user_tz": -600
    },
    "id": "LSGZH75fG33o"
   },
   "outputs": [],
   "source": [
    "pred = list(gbm_tuned_1.predict_proba(test)[:,1])"
   ]
  },
  {
   "cell_type": "code",
   "execution_count": null,
   "metadata": {
    "colab": {},
    "colab_type": "code",
    "executionInfo": {
     "elapsed": 988,
     "status": "ok",
     "timestamp": 1600317006540,
     "user": {
      "displayName": "Yuzhou Feng",
      "photoUrl": "",
      "userId": "13975821247008883080"
     },
     "user_tz": -600
    },
    "id": "n_C5PuPKHR7J"
   },
   "outputs": [],
   "source": [
    "\n",
    "out = pd.read_csv('/content/drive/My Drive/COMP90051_project1/Features/test_common_interest_2.csv')\n",
    "out[\"Predicted\"] = pred\n",
    "out.to_csv(\"/content/drive/My Drive/COMP90051_project1/new_train_model/GB_5f_4.csv\", index = False)"
   ]
  }
 ],
 "metadata": {
  "colab": {
   "authorship_tag": "ABX9TyO3LHDCoNj+y/ZRT4aMxnXQ",
   "mount_file_id": "1Q-VqbvcVVXMWlTMaJBXbLrYw3Ejuv5or",
   "name": "GB.ipynb",
   "provenance": []
  },
  "kernelspec": {
   "display_name": "Python 3",
   "language": "python",
   "name": "python3"
  },
  "language_info": {
   "codemirror_mode": {
    "name": "ipython",
    "version": 3
   },
   "file_extension": ".py",
   "mimetype": "text/x-python",
   "name": "python",
   "nbconvert_exporter": "python",
   "pygments_lexer": "ipython3",
   "version": "3.7.1"
  }
 },
 "nbformat": 4,
 "nbformat_minor": 2
}
